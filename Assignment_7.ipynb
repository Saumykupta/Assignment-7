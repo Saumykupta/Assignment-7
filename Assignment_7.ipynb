{
  "nbformat": 4,
  "nbformat_minor": 0,
  "metadata": {
    "colab": {
      "provenance": []
    },
    "kernelspec": {
      "name": "python3",
      "display_name": "Python 3"
    },
    "language_info": {
      "name": "python"
    }
  },
  "cells": [
    {
      "cell_type": "markdown",
      "source": [
        "**Question** 1. What is the name of the feature responsible for generating Regex objects?\n",
        "\n",
        "**Ans**:  The re.compile() function returns Regex objects.\n",
        "\n"
      ],
      "metadata": {
        "id": "dxkGsgLJRXXN"
      }
    },
    {
      "cell_type": "markdown",
      "source": [
        "**Question** 2. Why do raw strings often appear in Regex objects?\n",
        "\n",
        "**Ans**: Raw strings are used so that backslashes do not have to be escaped."
      ],
      "metadata": {
        "id": "Q3wXu-07R24l"
      }
    },
    {
      "cell_type": "markdown",
      "source": [
        "**Question** 3. What is the return value of the search() method?\n",
        "\n",
        "**Ans**: The search() method returns Match objects."
      ],
      "metadata": {
        "id": "nuHiVspkSQvP"
      }
    },
    {
      "cell_type": "markdown",
      "source": [
        "**Question** 4. From a Match item, how do you get the actual strings that match the pattern?\n",
        "\n",
        "**Ans** : The group() method returns strings of the matched text."
      ],
      "metadata": {
        "id": "FnHIN4D5SqOG"
      }
    },
    {
      "cell_type": "markdown",
      "source": [
        "**Question** 5. In the regex which created from the r&#39;(\\d\\d\\d)-(\\d\\d\\d-\\d\\d\\d\\d)&#39;, what does group zero cover?\n",
        "Group 2? Group 1?\n",
        "\n",
        "**Ans** : Group 0 is the entire match, group 1 covers the first set of parentheses, and group 2 covers the second set of parentheses."
      ],
      "metadata": {
        "id": "kNImoaY5S-xy"
      }
    },
    {
      "cell_type": "markdown",
      "source": [
        "**Question** 6. In standard expression syntax, parentheses and intervals have distinct meanings. How can you tell\n",
        "a regex that you want it to fit real parentheses and periods?\n",
        "\n",
        "**Ans** : Periods and parentheses can be escaped with a backslash: \\., \\(, and \\)."
      ],
      "metadata": {
        "id": "HpOOt7cwTMlm"
      }
    },
    {
      "cell_type": "markdown",
      "source": [
        "**Question** 7. The findall() method returns a string list or a list of string tuples. What causes it to return one of\n",
        "the two options?\n",
        "\n",
        "**Ans** : If the regex has no groups, a list of strings is returned. If the regex has groups, a list of tuples of strings is returned."
      ],
      "metadata": {
        "id": "4mpfY3nfTfUz"
      }
    },
    {
      "cell_type": "markdown",
      "source": [
        "**Question** 8. In standard expressions, what does the | character mean?\n",
        "\n",
        "**Ans** : The | character signifies matching \"either, or\" between two groups."
      ],
      "metadata": {
        "id": "cOzUeFD3Tv9F"
      }
    },
    {
      "cell_type": "markdown",
      "source": [
        "**Question** 9. In regular expressions, what does the character stand for?\n",
        "\n",
        "**Ans:**The ? character can either mean \"match zero or one of the preceding group\" or be used to signify nongreedy matching."
      ],
      "metadata": {
        "id": "_4Ep1nbhT9JW"
      }
    },
    {
      "cell_type": "markdown",
      "source": [
        "**Question** 10.In regular expressions, what is the difference between the + and * characters?\n",
        "\n",
        "**Ans:**The + matches one or more. The * matches zero or more."
      ],
      "metadata": {
        "id": "xy0GAujRUM-t"
      }
    },
    {
      "cell_type": "markdown",
      "source": [
        "**Question**11. What is the difference between {4} and {4,5} in regular expression?\n",
        "\n",
        "**Ans:** The {4} matches exactly four instances of the preceding group. The {4,5} matches between four and five instances."
      ],
      "metadata": {
        "id": "7W6St7KyUWH0"
      }
    },
    {
      "cell_type": "markdown",
      "source": [
        "**Question**12. What do you mean by the \\d, \\w, and \\s shorthand character classes signify in regular\n",
        "expressions?\n",
        "\n",
        "**Ans** : The \\d, \\w, and \\s shorthand character classes match a single digit, word, or space character, respectively."
      ],
      "metadata": {
        "id": "i03bUnSuUzw_"
      }
    },
    {
      "cell_type": "markdown",
      "source": [
        "**Question**13. What do means by \\D, \\W, and \\S shorthand character classes signify in regular expressions?\n",
        "\n",
        "**Ans:**The \\D, \\W, and \\S shorthand character classes match a single character that is not a digit, word, or space character, respectively."
      ],
      "metadata": {
        "id": "pEcPZUd_VA5o"
      }
    },
    {
      "cell_type": "markdown",
      "source": [
        "**Question**14. What is the difference between .*? and .*?\n",
        "\n",
        "**Ans**    (.*) means any type of character (the dot) of any amount, also 0, i.e. no character is also possible.\n",
        "\n"
      ],
      "metadata": {
        "id": "WMnq37M1VN-m"
      }
    },
    {
      "cell_type": "markdown",
      "source": [
        "**Question**15. What is the syntax for matching both numbers and lowercase letters with a character class?\n",
        "\n",
        "**Ans:** Either [0-9a-z] or [a-z0-9]"
      ],
      "metadata": {
        "id": "NHE3P2b3WdG2"
      }
    },
    {
      "cell_type": "markdown",
      "source": [
        "**Question**16. What is the procedure for making a normal expression in regax case insensitive?\n",
        "\n",
        "**Ans:** Passing re.I or re.IGNORECASE as the second argument to re.compile() will make the matching case insensitive.\n",
        "\n"
      ],
      "metadata": {
        "id": "U8UzPKWbW2ik"
      }
    },
    {
      "cell_type": "markdown",
      "source": [
        "**Question**17. What does the . character normally match? What does it match if re.DOTALL is passed as 2nd\n",
        "argument in re.compile()?\n",
        "\n",
        "**Ans:**The . character normally matches any character except the newline character. If re.DOTALL is passed as the second argument to re.compile(), then the dot will also match newline characters."
      ],
      "metadata": {
        "id": "Fm-bheg9XXww"
      }
    },
    {
      "cell_type": "markdown",
      "source": [
        "**Question**18. If numReg = re.compile(r'\\39;\\d+'), what will numRegex.sub('X','11 drummers, 10 pipers, five rings, 4\n",
        "hen') return?\n",
        "\n",
        "**Ans**'X drummers, X pipers, five rings, X hens'"
      ],
      "metadata": {
        "id": "_uBVig36XpJc"
      }
    },
    {
      "cell_type": "markdown",
      "source": [
        "**Question**19. What does passing re.VERBOSE as the 2nd argument to re.compile() allow to do?\n",
        "\n",
        "**Ans**  The re.VERBOSE argument allows you to add whitespace and comments to the string passed to re.compile()."
      ],
      "metadata": {
        "id": "dh7OuWhOhfJa"
      }
    },
    {
      "cell_type": "markdown",
      "source": [
        "**Question**20. How would you write a regex that match a number with comma for every three digits? It must\n",
        "match the given following:\n",
        "42\n",
        "1,234\n",
        "6,368,745\n",
        "\n",
        "**Ans**  re.compile(r'^\\d{1,3}(,\\d{3})*$') will create this regex, but other regex strings can produce a similar regular expression."
      ],
      "metadata": {
        "id": "7tTvLZmJhxIp"
      }
    },
    {
      "cell_type": "code",
      "source": [],
      "metadata": {
        "id": "6QvIXANfRXCO"
      },
      "execution_count": null,
      "outputs": []
    }
  ]
}